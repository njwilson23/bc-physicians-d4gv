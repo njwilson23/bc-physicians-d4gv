{
 "cells": [
  {
   "cell_type": "code",
   "execution_count": 2,
   "metadata": {
    "collapsed": true
   },
   "outputs": [],
   "source": [
    "import os\n",
    "import json\n",
    "import pandas\n",
    "import functools"
   ]
  },
  {
   "cell_type": "code",
   "execution_count": 12,
   "metadata": {},
   "outputs": [],
   "source": [
    "files = filter(lambda a: a.endswith(\".json\"), os.listdir(\"results/\"))\n",
    "\n",
    "doctor_lists = []\n",
    "\n",
    "for fnm in files:\n",
    "    with open(os.path.join(\"results\", fnm), \"r\") as f:\n",
    "        doctor_lists.append(json.load(f))\n",
    "\n",
    "def extend(L1, L2):\n",
    "    L1.extend(L2)\n",
    "    return L1\n",
    "        \n",
    "all_doctors = functools.reduce(extend, doctor_lists)"
   ]
  },
  {
   "cell_type": "code",
   "execution_count": 13,
   "metadata": {},
   "outputs": [
    {
     "data": {
      "text/plain": [
       "6119"
      ]
     },
     "execution_count": 13,
     "metadata": {},
     "output_type": "execute_result"
    }
   ],
   "source": [
    "len(all_doctors)"
   ]
  },
  {
   "cell_type": "code",
   "execution_count": 14,
   "metadata": {},
   "outputs": [
    {
     "data": {
      "text/plain": [
       "{'accepting_new_patients': 'No',\n",
       " 'addresses': ['2791 First Ave\\nTerrace, BC\\nV8G 0G2'],\n",
       " 'gender': 'Male',\n",
       " 'name': 'Appleton, Geoffrey Marsden',\n",
       " 'practice': 'General Family Practice'}"
      ]
     },
     "execution_count": 14,
     "metadata": {},
     "output_type": "execute_result"
    }
   ],
   "source": [
    "all_doctors[0]"
   ]
  },
  {
   "cell_type": "code",
   "execution_count": 19,
   "metadata": {
    "collapsed": true
   },
   "outputs": [],
   "source": [
    "names = [d[\"name\"] for d in all_doctors]\n",
    "addr = [d[\"addresses\"][0] for d in all_doctors]\n",
    "gender = [d[\"gender\"] for d in all_doctors]\n",
    "practice = [d[\"practice\"] for d in all_doctors]\n",
    "newpat = [d[\"accepting_new_patients\"] for d in all_doctors]\n",
    "\n",
    "gfp = [\"General Family Practice\" in p for p in practice]\n",
    "ccfp = [\"CCFP\" in p for p in practice]\n",
    "ccfp_em = [\"CCFP (EM)\" in p for p in practice]\n",
    "emer_med = [\"Emergency Medicine+\" in p for p in practice]\n",
    "an_path = [\"RCPSC - Anatomical Pathology\" in p for p in practice]\n",
    "int_med = [\"RCPSC - Internal Medicine\" in p for p in practice]\n",
    "med_bio = [\"RCPSC - Medical Biochemistry\" in p for p in practice]\n",
    "gen_surg = [\"RCPSC - General Surgery\" in p for p in practice]"
   ]
  },
  {
   "cell_type": "code",
   "execution_count": 23,
   "metadata": {},
   "outputs": [],
   "source": [
    "data = pandas.DataFrame(\n",
    "    {\n",
    "        \"Name\": names,\n",
    "        \"Address\": addr,\n",
    "        \"Gender\": gender,\n",
    "        \"Accepting_New_Patients\": newpat,\n",
    "        \"General_Family_Practice\": gfp,\n",
    "        \"CCFP\": ccfp,\n",
    "        \"CCFP_EM\": ccfp_em,\n",
    "        \"Emergency_Medicine\": emer_med,\n",
    "        \"Anatomical_Pathology\": an_path,\n",
    "        \"Internal_Medicine\": int_med,\n",
    "        \"Medical_Biochemistry\": med_bio,\n",
    "        \"General_Surgery\": gen_surg\n",
    "    })"
   ]
  },
  {
   "cell_type": "code",
   "execution_count": 24,
   "metadata": {},
   "outputs": [],
   "source": [
    "data.to_csv(\"CPSBC-data-v0.1.0.csv\")"
   ]
  },
  {
   "cell_type": "code",
   "execution_count": null,
   "metadata": {
    "collapsed": true
   },
   "outputs": [],
   "source": []
  }
 ],
 "metadata": {
  "kernelspec": {
   "display_name": "Python 3",
   "language": "python",
   "name": "python3"
  },
  "language_info": {
   "codemirror_mode": {
    "name": "ipython",
    "version": 3
   },
   "file_extension": ".py",
   "mimetype": "text/x-python",
   "name": "python",
   "nbconvert_exporter": "python",
   "pygments_lexer": "ipython3",
   "version": "3.5.3"
  }
 },
 "nbformat": 4,
 "nbformat_minor": 2
}
